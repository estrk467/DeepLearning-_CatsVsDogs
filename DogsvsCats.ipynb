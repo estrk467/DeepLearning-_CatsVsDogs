{
 "cells": [
  {
   "cell_type": "code",
   "execution_count": 12,
   "id": "4de0d7c4",
   "metadata": {},
   "outputs": [],
   "source": [
    "import pandas as pd\n",
    "import numpy as np\n",
    "import matplotlib.pyplot as plt\n",
    "from keras.models import Sequential\n",
    "from keras.layers import Conv2D\n",
    "from keras.layers import MaxPooling2D\n",
    "from keras.layers import Dense\n",
    "from keras.layers import Flatten"
   ]
  },
  {
   "cell_type": "code",
   "execution_count": 13,
   "id": "454d5ae7",
   "metadata": {},
   "outputs": [],
   "source": [
    "#initialize the cnn\n",
    "classifier= Sequential()\n"
   ]
  },
  {
   "cell_type": "code",
   "execution_count": 14,
   "id": "c086516d",
   "metadata": {},
   "outputs": [],
   "source": [
    "#fitting the cnn to the images\n",
    "from keras.preprocessing.image import ImageDataGenerator\n",
    "train_datagen = ImageDataGenerator(rescale = 1./255,\n",
    "                                              shear_range = 0.2,\n",
    "                                              zoom_range = 0.2,\n",
    "                                              horizontal_flip = True)"
   ]
  },
  {
   "cell_type": "code",
   "execution_count": 15,
   "id": "e472993f",
   "metadata": {},
   "outputs": [
    {
     "name": "stdout",
     "output_type": "stream",
     "text": [
      "Found 18697 images belonging to 2 classes.\n"
     ]
    }
   ],
   "source": [
    "test_datagen = ImageDataGenerator(rescale = 1./255)\n",
    "#Creating the Training set\n",
    "training_set = train_datagen.flow_from_directory('/Users/karla/Desktop/dataset_dogs_vs_cats/train',\n",
    "                                                 target_size = (64,64),\n",
    "                                                 batch_size = 32,\n",
    "                                                class_mode = 'binary')\n",
    "\n"
   ]
  },
  {
   "cell_type": "code",
   "execution_count": 16,
   "id": "0df22a4b",
   "metadata": {},
   "outputs": [
    {
     "name": "stdout",
     "output_type": "stream",
     "text": [
      "Found 6303 images belonging to 2 classes.\n"
     ]
    }
   ],
   "source": [
    "\n",
    "\n",
    "#creating the Test set\n",
    "test_set = test_datagen.flow_from_directory('/Users/karla/Desktop/dataset_dogs_vs_cats/test',\n",
    "                                           target_size = (64, 64),\n",
    "                                           batch_size = 32, \n",
    "                                           class_mode = 'binary')"
   ]
  },
  {
   "cell_type": "code",
   "execution_count": 17,
   "id": "ffe9be82",
   "metadata": {},
   "outputs": [],
   "source": [
    "#convolution\n",
    "classifier.add(Conv2D(filters=32, kernel_size=(3,3), input_shape=(64,64,3), activation='relu'))\n",
    "\n",
    "#maxpooling\n",
    "classifier.add(MaxPooling2D(pool_size=(2,2)))\n",
    "\n",
    "\n",
    "#flattening\n",
    "classifier.add(Flatten())\n",
    "\n",
    "#full connection\n",
    "classifier.add(Dense(128, activation='relu'))\n",
    "\n",
    "\n",
    "classifier.add(Dense(1, activation='sigmoid'))\n",
    "\n",
    "classifier.compile(optimizer = 'adam', loss = 'binary_crossentropy', metrics = 'accuracy')\n",
    "\n"
   ]
  },
  {
   "cell_type": "code",
   "execution_count": 18,
   "id": "ee951513",
   "metadata": {},
   "outputs": [
    {
     "name": "stdout",
     "output_type": "stream",
     "text": [
      "Epoch 1/20\n"
     ]
    },
    {
     "name": "stderr",
     "output_type": "stream",
     "text": [
      "2022-11-28 18:41:32.308579: W tensorflow/core/platform/profile_utils/cpu_utils.cc:128] Failed to get CPU frequency: 0 Hz\n"
     ]
    },
    {
     "name": "stdout",
     "output_type": "stream",
     "text": [
      "\r",
      "  1/585 [..............................] - ETA: 4:05 - loss: 0.7122 - accuracy: 0.4062"
     ]
    },
    {
     "name": "stderr",
     "output_type": "stream",
     "text": [
      "2022-11-28 18:41:32.550985: I tensorflow/core/grappler/optimizers/custom_graph_optimizer_registry.cc:113] Plugin optimizer for device_type GPU is enabled.\n"
     ]
    },
    {
     "name": "stdout",
     "output_type": "stream",
     "text": [
      "585/585 [==============================] - ETA: 0s - loss: 0.6215 - accuracy: 0.6524"
     ]
    },
    {
     "name": "stderr",
     "output_type": "stream",
     "text": [
      "2022-11-28 18:42:04.744372: I tensorflow/core/grappler/optimizers/custom_graph_optimizer_registry.cc:113] Plugin optimizer for device_type GPU is enabled.\n"
     ]
    },
    {
     "name": "stdout",
     "output_type": "stream",
     "text": [
      "585/585 [==============================] - 40s 68ms/step - loss: 0.6215 - accuracy: 0.6524 - val_loss: 0.5564 - val_accuracy: 0.7125\n",
      "Epoch 2/20\n",
      "585/585 [==============================] - 40s 68ms/step - loss: 0.5531 - accuracy: 0.7166 - val_loss: 0.5229 - val_accuracy: 0.7447\n",
      "Epoch 3/20\n",
      "585/585 [==============================] - 40s 69ms/step - loss: 0.5224 - accuracy: 0.7387 - val_loss: 0.5131 - val_accuracy: 0.7560\n",
      "Epoch 4/20\n",
      "585/585 [==============================] - 41s 69ms/step - loss: 0.4981 - accuracy: 0.7579 - val_loss: 0.5055 - val_accuracy: 0.7520\n",
      "Epoch 5/20\n",
      "585/585 [==============================] - 40s 69ms/step - loss: 0.4771 - accuracy: 0.7715 - val_loss: 0.5260 - val_accuracy: 0.7339\n",
      "Epoch 6/20\n",
      "585/585 [==============================] - 40s 69ms/step - loss: 0.4647 - accuracy: 0.7794 - val_loss: 0.4779 - val_accuracy: 0.7719\n",
      "Epoch 7/20\n",
      "585/585 [==============================] - 40s 69ms/step - loss: 0.4525 - accuracy: 0.7889 - val_loss: 0.4748 - val_accuracy: 0.7830\n",
      "Epoch 8/20\n",
      "585/585 [==============================] - 40s 69ms/step - loss: 0.4450 - accuracy: 0.7929 - val_loss: 0.5117 - val_accuracy: 0.7581\n",
      "Epoch 9/20\n",
      "585/585 [==============================] - 40s 69ms/step - loss: 0.4283 - accuracy: 0.8004 - val_loss: 0.4889 - val_accuracy: 0.7685\n",
      "Epoch 10/20\n",
      "585/585 [==============================] - 40s 69ms/step - loss: 0.4193 - accuracy: 0.8083 - val_loss: 0.5131 - val_accuracy: 0.7679\n",
      "Epoch 11/20\n",
      "585/585 [==============================] - 41s 70ms/step - loss: 0.4044 - accuracy: 0.8194 - val_loss: 0.5092 - val_accuracy: 0.7634\n",
      "Epoch 12/20\n",
      "585/585 [==============================] - 41s 69ms/step - loss: 0.3960 - accuracy: 0.8191 - val_loss: 0.5263 - val_accuracy: 0.7736\n",
      "Epoch 13/20\n",
      "585/585 [==============================] - 40s 69ms/step - loss: 0.3870 - accuracy: 0.8254 - val_loss: 0.5007 - val_accuracy: 0.7793\n",
      "Epoch 14/20\n",
      "585/585 [==============================] - 40s 69ms/step - loss: 0.3802 - accuracy: 0.8315 - val_loss: 0.4803 - val_accuracy: 0.7872\n",
      "Epoch 15/20\n",
      "585/585 [==============================] - 40s 69ms/step - loss: 0.3658 - accuracy: 0.8349 - val_loss: 0.5373 - val_accuracy: 0.7696\n",
      "Epoch 16/20\n",
      "585/585 [==============================] - 40s 69ms/step - loss: 0.3538 - accuracy: 0.8415 - val_loss: 0.5274 - val_accuracy: 0.7742\n",
      "Epoch 17/20\n",
      "585/585 [==============================] - 40s 68ms/step - loss: 0.3421 - accuracy: 0.8495 - val_loss: 0.5498 - val_accuracy: 0.7747\n",
      "Epoch 18/20\n",
      "585/585 [==============================] - 40s 68ms/step - loss: 0.3406 - accuracy: 0.8486 - val_loss: 0.5363 - val_accuracy: 0.7704\n",
      "Epoch 19/20\n",
      "585/585 [==============================] - 40s 68ms/step - loss: 0.3259 - accuracy: 0.8595 - val_loss: 0.5490 - val_accuracy: 0.7634\n",
      "Epoch 20/20\n",
      "585/585 [==============================] - 40s 68ms/step - loss: 0.3197 - accuracy: 0.8608 - val_loss: 0.6284 - val_accuracy: 0.7449\n"
     ]
    },
    {
     "data": {
      "text/plain": [
       "<keras.callbacks.History at 0x14fceb2b0>"
      ]
     },
     "execution_count": 18,
     "metadata": {},
     "output_type": "execute_result"
    }
   ],
   "source": [
    "classifier.fit(training_set,validation_data=test_set, epochs=20)"
   ]
  },
  {
   "cell_type": "code",
   "execution_count": 86,
   "id": "c0fd4b0a",
   "metadata": {},
   "outputs": [],
   "source": []
  },
  {
   "cell_type": "code",
   "execution_count": 87,
   "id": "18e84aa9",
   "metadata": {},
   "outputs": [],
   "source": []
  },
  {
   "cell_type": "code",
   "execution_count": 88,
   "id": "e408c6cd",
   "metadata": {},
   "outputs": [],
   "source": []
  },
  {
   "cell_type": "code",
   "execution_count": 89,
   "id": "d8c0846f",
   "metadata": {},
   "outputs": [],
   "source": []
  },
  {
   "cell_type": "code",
   "execution_count": null,
   "id": "f2d67627",
   "metadata": {},
   "outputs": [],
   "source": [
    "\n"
   ]
  },
  {
   "cell_type": "code",
   "execution_count": null,
   "id": "f20fff71",
   "metadata": {},
   "outputs": [],
   "source": []
  }
 ],
 "metadata": {
  "kernelspec": {
   "display_name": "Python 3 (ipykernel)",
   "language": "python",
   "name": "python3"
  },
  "language_info": {
   "codemirror_mode": {
    "name": "ipython",
    "version": 3
   },
   "file_extension": ".py",
   "mimetype": "text/x-python",
   "name": "python",
   "nbconvert_exporter": "python",
   "pygments_lexer": "ipython3",
   "version": "3.10.4"
  }
 },
 "nbformat": 4,
 "nbformat_minor": 5
}
